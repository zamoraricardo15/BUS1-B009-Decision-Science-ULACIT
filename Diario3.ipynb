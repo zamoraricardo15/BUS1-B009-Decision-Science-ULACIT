{
 "cells": [
  {
   "cell_type": "markdown",
   "id": "8f6775bd",
   "metadata": {},
   "source": [
    "##Diario 3"
   ]
  },
  {
   "cell_type": "markdown",
   "id": "ad5d2a58",
   "metadata": {},
   "source": [
    "##Primera parte"
   ]
  },
  {
   "cell_type": "code",
   "execution_count": 4,
   "id": "f9be4137",
   "metadata": {},
   "outputs": [],
   "source": [
    "import math as mt\n",
    "import statistics as st\n",
    "import pandas as pd\n",
    "import numpy as np"
   ]
  },
  {
   "cell_type": "code",
   "execution_count": 6,
   "id": "c34fd7a5",
   "metadata": {},
   "outputs": [
    {
     "data": {
      "text/plain": [
       "12867.963509103793"
      ]
     },
     "execution_count": 6,
     "metadata": {},
     "output_type": "execute_result"
    }
   ],
   "source": [
    "#1.a\n",
    "r = (mt.pi) * (8**4)\n",
    "r"
   ]
  },
  {
   "cell_type": "code",
   "execution_count": 7,
   "id": "c8b069fe",
   "metadata": {},
   "outputs": [
    {
     "data": {
      "text/plain": [
       "820.1428571428573"
      ]
     },
     "execution_count": 7,
     "metadata": {},
     "output_type": "execute_result"
    }
   ],
   "source": [
    "#1.a.2\n",
    "r = abs(1342-1677*(9/7)-6)\n",
    "r"
   ]
  },
  {
   "cell_type": "code",
   "execution_count": 9,
   "id": "073c3105",
   "metadata": {},
   "outputs": [
    {
     "data": {
      "text/plain": [
       "362880"
      ]
     },
     "execution_count": 9,
     "metadata": {},
     "output_type": "execute_result"
    }
   ],
   "source": [
    "r = mt.factorial(9)\n",
    "r"
   ]
  },
  {
   "cell_type": "code",
   "execution_count": 11,
   "id": "6370225f",
   "metadata": {},
   "outputs": [
    {
     "data": {
      "text/plain": [
       "0.8450980400142567"
      ]
     },
     "execution_count": 11,
     "metadata": {},
     "output_type": "execute_result"
    }
   ],
   "source": [
    "r = mt.log(7,10)\n",
    "r"
   ]
  },
  {
   "cell_type": "code",
   "execution_count": 12,
   "id": "2ea0ff6d",
   "metadata": {},
   "outputs": [
    {
     "data": {
      "text/plain": [
       "1.7427372337331462"
      ]
     },
     "execution_count": 12,
     "metadata": {},
     "output_type": "execute_result"
    }
   ],
   "source": [
    "#1.a.5\n",
    "r = mt.e**0.555457\n",
    "r"
   ]
  },
  {
   "cell_type": "code",
   "execution_count": 15,
   "id": "cae99ac0",
   "metadata": {},
   "outputs": [
    {
     "data": {
      "text/plain": [
       "0.0030459672118422947"
      ]
     },
     "execution_count": 15,
     "metadata": {},
     "output_type": "execute_result"
    }
   ],
   "source": [
    "#1.b\n",
    "y = math.pi\n",
    "z = 41\n",
    "x = (2+y)/(7+(z**2))\n",
    "\n",
    "x"
   ]
  },
  {
   "cell_type": "markdown",
   "id": "e01ea07c",
   "metadata": {},
   "source": [
    "##Parte 2"
   ]
  },
  {
   "cell_type": "code",
   "execution_count": 16,
   "id": "5682784e",
   "metadata": {},
   "outputs": [
    {
     "data": {
      "text/plain": [
       "[2, -6, 27, -8, -9, -21, 9, 5, 562, 3.141592653589793]"
      ]
     },
     "execution_count": 16,
     "metadata": {},
     "output_type": "execute_result"
    }
   ],
   "source": [
    "##Listas\n",
    "x = [2,-6,27,-8,-9,-21,9,5,562,mt.pi]\n",
    "x"
   ]
  },
  {
   "cell_type": "code",
   "execution_count": 18,
   "id": "d1ec9644",
   "metadata": {},
   "outputs": [
    {
     "data": {
      "text/plain": [
       "[8, 9, -31, 18, -5, -18, 9, -22, 0, 9]"
      ]
     },
     "execution_count": 18,
     "metadata": {},
     "output_type": "execute_result"
    }
   ],
   "source": [
    "y = [8,9,-31,18,-5,-18,9,-22,0,9]\n",
    "y"
   ]
  },
  {
   "cell_type": "code",
   "execution_count": 19,
   "id": "84f086a8",
   "metadata": {},
   "outputs": [
    {
     "data": {
      "text/plain": [
       "15.40162329106903"
      ]
     },
     "execution_count": 19,
     "metadata": {},
     "output_type": "execute_result"
    }
   ],
   "source": [
    "st.mean(y)"
   ]
  },
  {
   "cell_type": "code",
   "execution_count": 20,
   "id": "fa5ab590",
   "metadata": {},
   "outputs": [
    {
     "data": {
      "text/plain": [
       "237.21"
      ]
     },
     "execution_count": 20,
     "metadata": {},
     "output_type": "execute_result"
    }
   ],
   "source": [
    "st.pvariance(y)"
   ]
  },
  {
   "cell_type": "code",
   "execution_count": 21,
   "id": "25f8f715",
   "metadata": {},
   "outputs": [
    {
     "data": {
      "text/plain": [
       "15.40162329106903"
      ]
     },
     "execution_count": 21,
     "metadata": {},
     "output_type": "execute_result"
    }
   ],
   "source": [
    "st.pstdev(y)"
   ]
  },
  {
   "cell_type": "code",
   "execution_count": 22,
   "id": "9cf337f0",
   "metadata": {},
   "outputs": [
    {
     "data": {
      "text/plain": [
       "array([[1.        , 0.02692977],\n",
       "       [0.02692977, 1.        ]])"
      ]
     },
     "execution_count": 22,
     "metadata": {},
     "output_type": "execute_result"
    }
   ],
   "source": [
    "##Correlacion\n",
    "np.corrcoef(x,y)"
   ]
  },
  {
   "cell_type": "code",
   "execution_count": 24,
   "id": "8781dc08",
   "metadata": {},
   "outputs": [
    {
     "data": {
      "text/plain": [
       "[3.141592653589793, 562, 5, 9, -21, -9, -8, 27, -6, 2]"
      ]
     },
     "execution_count": 24,
     "metadata": {},
     "output_type": "execute_result"
    }
   ],
   "source": [
    "list(reversed(x))"
   ]
  },
  {
   "cell_type": "code",
   "execution_count": 25,
   "id": "b8913348",
   "metadata": {},
   "outputs": [
    {
     "data": {
      "text/plain": [
       "{'sexo': ['H', 'M', 'H', 'M', 'H', 'M'],\n",
       " 'peso': ['43', '35', '96', '56', '25', '48'],\n",
       " 'edad': ['15', '21', '19', '17', '25', '35'],\n",
       " 'nivel educativo': ['Lic', 'Bach', 'Bach', 'Bach', 'Dr', 'MSc']}"
      ]
     },
     "execution_count": 25,
     "metadata": {},
     "output_type": "execute_result"
    }
   ],
   "source": [
    "datos = {'sexo': [\"H\", \"M\",\"H\", \"M\",\"H\", \"M\"],\n",
    "        'peso': [\"43\", \"35\", \"96\", \"56\", \"25\",\"48\"],\n",
    "        'edad': [\"15\", \"21\", \"19\", \"17\", \"25\", \"35\"],\n",
    "        'nivel educativo': [\"Lic\", \"Bach\", \"Bach\", \"Bach\", \"Dr\", \"MSc\"]}\n",
    "datos"
   ]
  },
  {
   "cell_type": "code",
   "execution_count": 26,
   "id": "ad32c9b2",
   "metadata": {},
   "outputs": [
    {
     "data": {
      "text/html": [
       "<div>\n",
       "<style scoped>\n",
       "    .dataframe tbody tr th:only-of-type {\n",
       "        vertical-align: middle;\n",
       "    }\n",
       "\n",
       "    .dataframe tbody tr th {\n",
       "        vertical-align: top;\n",
       "    }\n",
       "\n",
       "    .dataframe thead th {\n",
       "        text-align: right;\n",
       "    }\n",
       "</style>\n",
       "<table border=\"1\" class=\"dataframe\">\n",
       "  <thead>\n",
       "    <tr style=\"text-align: right;\">\n",
       "      <th></th>\n",
       "      <th>sexo</th>\n",
       "      <th>peso</th>\n",
       "      <th>edad</th>\n",
       "      <th>nivel educativo</th>\n",
       "    </tr>\n",
       "  </thead>\n",
       "  <tbody>\n",
       "    <tr>\n",
       "      <th>0</th>\n",
       "      <td>H</td>\n",
       "      <td>43</td>\n",
       "      <td>15</td>\n",
       "      <td>Lic</td>\n",
       "    </tr>\n",
       "    <tr>\n",
       "      <th>1</th>\n",
       "      <td>M</td>\n",
       "      <td>35</td>\n",
       "      <td>21</td>\n",
       "      <td>Bach</td>\n",
       "    </tr>\n",
       "    <tr>\n",
       "      <th>2</th>\n",
       "      <td>H</td>\n",
       "      <td>96</td>\n",
       "      <td>19</td>\n",
       "      <td>Bach</td>\n",
       "    </tr>\n",
       "    <tr>\n",
       "      <th>3</th>\n",
       "      <td>M</td>\n",
       "      <td>56</td>\n",
       "      <td>17</td>\n",
       "      <td>Bach</td>\n",
       "    </tr>\n",
       "    <tr>\n",
       "      <th>4</th>\n",
       "      <td>H</td>\n",
       "      <td>25</td>\n",
       "      <td>25</td>\n",
       "      <td>Dr</td>\n",
       "    </tr>\n",
       "    <tr>\n",
       "      <th>5</th>\n",
       "      <td>M</td>\n",
       "      <td>48</td>\n",
       "      <td>35</td>\n",
       "      <td>MSc</td>\n",
       "    </tr>\n",
       "  </tbody>\n",
       "</table>\n",
       "</div>"
      ],
      "text/plain": [
       "  sexo peso edad nivel educativo\n",
       "0    H   43   15             Lic\n",
       "1    M   35   21            Bach\n",
       "2    H   96   19            Bach\n",
       "3    M   56   17            Bach\n",
       "4    H   25   25              Dr\n",
       "5    M   48   35             MSc"
      ]
     },
     "execution_count": 26,
     "metadata": {},
     "output_type": "execute_result"
    }
   ],
   "source": [
    "df = pd.DataFrame(datos)\n",
    "df"
   ]
  },
  {
   "cell_type": "markdown",
   "id": "689d0075",
   "metadata": {},
   "source": [
    "##Parte 4"
   ]
  },
  {
   "cell_type": "code",
   "execution_count": 31,
   "id": "ac126a8f",
   "metadata": {},
   "outputs": [
    {
     "data": {
      "text/plain": [
       "25502500"
      ]
     },
     "execution_count": 31,
     "metadata": {},
     "output_type": "execute_result"
    }
   ],
   "source": [
    "def sumcubo(n):\n",
    "    contador = 0 \n",
    "    for i in range(n+1):\n",
    "        valorcubo = i**3\n",
    "        contador  = contador + valorcubo\n",
    "    return(contador)\n",
    "sumcubo(100)"
   ]
  },
  {
   "cell_type": "code",
   "execution_count": 34,
   "id": "bc4beaea",
   "metadata": {},
   "outputs": [
    {
     "name": "stdout",
     "output_type": "stream",
     "text": [
      "25502500\n"
     ]
    }
   ],
   "source": [
    "contador = 0\n",
    "sumcubo = 100\n",
    "while sumcubo >= 0:\n",
    "    valorcubo = (sumcubo**3)\n",
    "    contador = contador + valorcubo\n",
    "    sumcubo = sumcubo - 1\n",
    "print(contador)"
   ]
  },
  {
   "cell_type": "code",
   "execution_count": null,
   "id": "5fc61514",
   "metadata": {},
   "outputs": [],
   "source": []
  }
 ],
 "metadata": {
  "kernelspec": {
   "display_name": "Python 3 (ipykernel)",
   "language": "python",
   "name": "python3"
  },
  "language_info": {
   "codemirror_mode": {
    "name": "ipython",
    "version": 3
   },
   "file_extension": ".py",
   "mimetype": "text/x-python",
   "name": "python",
   "nbconvert_exporter": "python",
   "pygments_lexer": "ipython3",
   "version": "3.7.8"
  }
 },
 "nbformat": 4,
 "nbformat_minor": 5
}
